{
 "cells": [
  {
   "cell_type": "code",
   "execution_count": 1,
   "metadata": {},
   "outputs": [],
   "source": [
    "from dgpy.dgsqlaio import DigiSql\n",
    "from dgpy.dgsecrets import DigiSecret"
   ]
  },
  {
   "cell_type": "code",
   "execution_count": 2,
   "metadata": {},
   "outputs": [],
   "source": [
    "supernova_config = {\n",
    "    \"flavor\": 'mysql',\n",
    "    \"server\": f'{DigiSecret()[\"DG_SHARED_ADDR\"]}:{DigiSecret()[\"DG_SHARED_PORT\"]}',\n",
    "    \"database\": 'digikala',\n",
    "    \"username\": DigiSecret()['DG_SHARED_USER'],\n",
    "    \"password\": DigiSecret()['DG_SHARED_PASS']\n",
    "}\n",
    "\n",
    "upstream_root_config = {\n",
    "    \"flavor\": 'mysql',\n",
    "    \"server\": '172.16.159.34:10008',\n",
    "    \"database\": 'mysql',\n",
    "    \"username\": 'root',\n",
    "    \"password\": 'x0J2_KQ3)SBu1vTY'\n",
    "}\n",
    "\n",
    "upstream_config = {\n",
    "    \"flavor\": 'mysql',\n",
    "    \"server\": '172.16.159.34:10008',\n",
    "    \"database\": 'supernova',\n",
    "    \"username\": 'root',\n",
    "    \"password\": 'x0J2_KQ3)SBu1vTY'\n",
    "}\n",
    "\n",
    "downstream_config = {\n",
    "    \"flavor\": 'sql-server',\n",
    "    \"server\": '172.16.159.34:10009',\n",
    "    \"database\": 'ods',\n",
    "    \"username\": 'sa',\n",
    "    \"password\": 'x0J2_KQ3)SBu1vTY'\n",
    "}"
   ]
  },
  {
   "cell_type": "markdown",
   "metadata": {},
   "source": [
    "### Create Database and Tables\n",
    "\n",
    "We'll fetch the create statements for tables in shared, in order to be able to directly create them in the upstream database.\n",
    "We'll do the same for the downstream database, and convert varchars to nvarchars."
   ]
  },
  {
   "cell_type": "code",
   "execution_count": 3,
   "metadata": {},
   "outputs": [],
   "source": [
    "with DigiSql(**upstream_root_config) as upstream:\n",
    "    upstream.fetch('DROP DATABASE IF EXISTS supernova;')\n",
    "    upstream.fetch('CREATE DATABASE supernova;')"
   ]
  },
  {
   "cell_type": "code",
   "execution_count": 4,
   "metadata": {},
   "outputs": [],
   "source": [
    "tables = ['orders', 'order_items']"
   ]
  },
  {
   "cell_type": "code",
   "execution_count": 5,
   "metadata": {},
   "outputs": [
    {
     "name": "stdout",
     "output_type": "stream",
     "text": [
      "[('order_items',), ('orders',)]\n"
     ]
    }
   ],
   "source": [
    "for table in tables:\n",
    "    with DigiSql(**supernova_config) as supernova:\n",
    "        create_statement = [line for line in supernova.fetch(f'SHOW CREATE TABLE {table}')][0][1]\n",
    "        with DigiSql(**upstream_config) as upstream:\n",
    "            upstream.fetch(create_statement)\n",
    "\n",
    "with DigiSql(**upstream_config) as upstream:\n",
    "    # upstream.fetch('CREATE TABLE offsets (table_name VARCHAR(50), offset_index int)')\n",
    "    tables = upstream.fetch_all('SHOW TABLES;')\n",
    "\n",
    "print(tables)"
   ]
  },
  {
   "cell_type": "code",
   "execution_count": 9,
   "metadata": {},
   "outputs": [
    {
     "data": {
      "text/html": [
       "<div>\n",
       "<style scoped>\n",
       "    .dataframe tbody tr th:only-of-type {\n",
       "        vertical-align: middle;\n",
       "    }\n",
       "\n",
       "    .dataframe tbody tr th {\n",
       "        vertical-align: top;\n",
       "    }\n",
       "\n",
       "    .dataframe thead th {\n",
       "        text-align: right;\n",
       "    }\n",
       "</style>\n",
       "<table border=\"1\" class=\"dataframe\">\n",
       "  <thead>\n",
       "    <tr style=\"text-align: right;\">\n",
       "      <th></th>\n",
       "    </tr>\n",
       "  </thead>\n",
       "  <tbody>\n",
       "  </tbody>\n",
       "</table>\n",
       "</div>"
      ],
      "text/plain": [
       "Empty DataFrame\n",
       "Columns: []\n",
       "Index: []"
      ]
     },
     "execution_count": 9,
     "metadata": {},
     "output_type": "execute_result"
    }
   ],
   "source": [
    "with DigiSql(**upstream_config) as upstream:\n",
    "    # upstream.fetch('CREATE TABLE offsets (table_name VARCHAR(50), offset_index int)')\n",
    "    test = upstream.to_df('SELECT * FROM order_items;')\n",
    "test"
   ]
  },
  {
   "cell_type": "code",
   "execution_count": 19,
   "metadata": {},
   "outputs": [
    {
     "data": {
      "text/plain": [
       "[{'A': 1, 'B': 4}, {'A': 2, 'B': 5}, {'A': 3, 'B': 7}]"
      ]
     },
     "execution_count": 19,
     "metadata": {},
     "output_type": "execute_result"
    }
   ],
   "source": [
    "import pandas as pd\n",
    "\n",
    "df = pd.DataFrame({\n",
    "    'A': [1, 2, 3],\n",
    "    'B': [4, 5, 7]\n",
    "})\n",
    "df.to_dict(orient = 'records')"
   ]
  },
  {
   "cell_type": "code",
   "execution_count": null,
   "metadata": {},
   "outputs": [],
   "source": []
  }
 ],
 "metadata": {
  "interpreter": {
   "hash": "13db652129f35c68c7c498cc421bdc0bec1af1e238da9534ea41b819d111ba77"
  },
  "kernelspec": {
   "display_name": "Python 3.8.10 64-bit (system)",
   "language": "python",
   "name": "python3"
  },
  "language_info": {
   "codemirror_mode": {
    "name": "ipython",
    "version": 3
   },
   "file_extension": ".py",
   "mimetype": "text/x-python",
   "name": "python",
   "nbconvert_exporter": "python",
   "pygments_lexer": "ipython3",
   "version": "3.8.10"
  },
  "orig_nbformat": 4
 },
 "nbformat": 4,
 "nbformat_minor": 2
}
