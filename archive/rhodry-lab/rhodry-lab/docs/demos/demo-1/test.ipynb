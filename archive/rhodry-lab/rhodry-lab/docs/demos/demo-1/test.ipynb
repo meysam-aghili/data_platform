{
 "cells": [
  {
   "cell_type": "code",
   "execution_count": 26,
   "metadata": {},
   "outputs": [],
   "source": [
    "from dgpy.dgsqlaio import DigiSql\n",
    "from dgpy.dgsecrets import DigiSecret"
   ]
  },
  {
   "cell_type": "code",
   "execution_count": 15,
   "metadata": {},
   "outputs": [],
   "source": [
    "upstream = DigiSql(flavor = 'mysql', server = '172.16.159.34:10008', database = 'supernova', username = 'root', password = 'x0J2_KQ3)SBu1vTY')\n",
    "sn = DigiSql(flavor = 'mysql', server = '172.30.5.60:13306', database = 'digikala', username = DigiSecret()['DG_SHARED_USER'], password = DigiSecret()['DG_SHARED_PASS'])"
   ]
  },
  {
   "cell_type": "code",
   "execution_count": 24,
   "metadata": {},
   "outputs": [
    {
     "data": {
      "text/html": [
       "<div>\n",
       "<style scoped>\n",
       "    .dataframe tbody tr th:only-of-type {\n",
       "        vertical-align: middle;\n",
       "    }\n",
       "\n",
       "    .dataframe tbody tr th {\n",
       "        vertical-align: top;\n",
       "    }\n",
       "\n",
       "    .dataframe thead th {\n",
       "        text-align: right;\n",
       "    }\n",
       "</style>\n",
       "<table border=\"1\" class=\"dataframe\">\n",
       "  <thead>\n",
       "    <tr style=\"text-align: right;\">\n",
       "      <th></th>\n",
       "      <th>id</th>\n",
       "      <th>site</th>\n",
       "      <th>old_id</th>\n",
       "      <th>active</th>\n",
       "      <th>active_digistyle</th>\n",
       "      <th>status</th>\n",
       "      <th>supply_status</th>\n",
       "      <th>moderation_status</th>\n",
       "      <th>moderation_verification_status</th>\n",
       "      <th>moderation_snapshot_id</th>\n",
       "      <th>...</th>\n",
       "      <th>is_created_by_cf</th>\n",
       "      <th>hidden</th>\n",
       "      <th>is_iranian</th>\n",
       "      <th>product_classes</th>\n",
       "      <th>is_b2b_active</th>\n",
       "      <th>default_b2b_variant_id</th>\n",
       "      <th>only_b2b</th>\n",
       "      <th>color_palette_id</th>\n",
       "      <th>intent_data</th>\n",
       "      <th>digipay_insurance_id</th>\n",
       "    </tr>\n",
       "  </thead>\n",
       "  <tbody>\n",
       "    <tr>\n",
       "      <th>0</th>\n",
       "      <td>101</td>\n",
       "      <td>digikala</td>\n",
       "      <td>None</td>\n",
       "      <td>1</td>\n",
       "      <td>0</td>\n",
       "      <td>stop_production</td>\n",
       "      <td>None</td>\n",
       "      <td>approved</td>\n",
       "      <td>verified</td>\n",
       "      <td>None</td>\n",
       "      <td>...</td>\n",
       "      <td>1</td>\n",
       "      <td>0</td>\n",
       "      <td>0</td>\n",
       "      <td>None</td>\n",
       "      <td>0</td>\n",
       "      <td>None</td>\n",
       "      <td>0</td>\n",
       "      <td>None</td>\n",
       "      <td>None</td>\n",
       "      <td>None</td>\n",
       "    </tr>\n",
       "  </tbody>\n",
       "</table>\n",
       "<p>1 rows × 116 columns</p>\n",
       "</div>"
      ],
      "text/plain": [
       "    id      site old_id  active  active_digistyle           status  \\\n",
       "0  101  digikala   None       1                 0  stop_production   \n",
       "\n",
       "  supply_status moderation_status moderation_verification_status  \\\n",
       "0          None          approved                       verified   \n",
       "\n",
       "  moderation_snapshot_id  ... is_created_by_cf  hidden is_iranian  \\\n",
       "0                   None  ...                1       0          0   \n",
       "\n",
       "   product_classes  is_b2b_active default_b2b_variant_id only_b2b  \\\n",
       "0             None              0                   None        0   \n",
       "\n",
       "  color_palette_id intent_data digipay_insurance_id  \n",
       "0             None        None                 None  \n",
       "\n",
       "[1 rows x 116 columns]"
      ]
     },
     "execution_count": 24,
     "metadata": {},
     "output_type": "execute_result"
    }
   ],
   "source": [
    "df = sn.to_df('SELECT * FROM digikala.products ORDER BY id LIMIT 1 OFFSET 100;')\n",
    "df.head()"
   ]
  },
  {
   "cell_type": "code",
   "execution_count": 25,
   "metadata": {},
   "outputs": [],
   "source": [
    "upstream.to_sql(df, table = 'products', if_exists = 'append')"
   ]
  },
  {
   "cell_type": "code",
   "execution_count": null,
   "metadata": {},
   "outputs": [],
   "source": []
  }
 ],
 "metadata": {
  "interpreter": {
   "hash": "13db652129f35c68c7c498cc421bdc0bec1af1e238da9534ea41b819d111ba77"
  },
  "kernelspec": {
   "display_name": "Python 3.8.10 64-bit (system)",
   "language": "python",
   "name": "python3"
  },
  "language_info": {
   "codemirror_mode": {
    "name": "ipython",
    "version": 3
   },
   "file_extension": ".py",
   "mimetype": "text/x-python",
   "name": "python",
   "nbconvert_exporter": "python",
   "pygments_lexer": "ipython3",
   "version": "3.8.10"
  },
  "orig_nbformat": 4
 },
 "nbformat": 4,
 "nbformat_minor": 2
}
