{
 "cells": [
  {
   "cell_type": "code",
   "execution_count": 4,
   "metadata": {},
   "outputs": [
    {
     "name": "stdout",
     "output_type": "stream",
     "text": [
      "Status: 200\n",
      "Response: {'offsets': [{'partition': 0, 'offset': 32, 'error_code': None, 'error': None}, {'partition': 0, 'offset': 33, 'error_code': None, 'error': None}], 'key_schema_id': None, 'value_schema_id': 1}\n"
     ]
    }
   ],
   "source": [
    "from utils import KafkaRestProducer\n",
    "\n",
    "\n",
    "value_schema = {\n",
    "    \"namespace\": \"com.example\",\n",
    "    \"type\": \"record\",\n",
    "    \"name\": \"User\",\n",
    "    \"fields\": [\n",
    "        {\"name\": \"id\", \"type\": \"int\"},\n",
    "        {\"name\": \"name\", \"type\": \"string\"}\n",
    "    ]\n",
    "}\n",
    "\n",
    "data = {\n",
    "    \"records\": [\n",
    "        {\"value\": {\"id\": 1, \"name\": \"Alice\"}},\n",
    "        {\"value\": {\"id\": 2, \"name\": \"Bob\"}}\n",
    "    ]\n",
    "}\n",
    "\n",
    "krp = KafkaRestProducer(rest_proxy_url=\"http://172.20.65.42:8082\", schema_registry_url=\"http://172.20.65.42:8081\")\n",
    "response = krp.produce(\"testAvro\", data, \"avro\")\n",
    "\n",
    "print(f\"Status: {response.status_code}\")\n",
    "print(f\"Response: {response.json()}\")"
   ]
  }
 ],
 "metadata": {
  "kernelspec": {
   "display_name": "Python 3",
   "language": "python",
   "name": "python3"
  },
  "language_info": {
   "codemirror_mode": {
    "name": "ipython",
    "version": 3
   },
   "file_extension": ".py",
   "mimetype": "text/x-python",
   "name": "python",
   "nbconvert_exporter": "python",
   "pygments_lexer": "ipython3",
   "version": "3.12.1"
  }
 },
 "nbformat": 4,
 "nbformat_minor": 2
}
