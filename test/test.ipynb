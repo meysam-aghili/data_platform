{
 "cells": [
  {
   "cell_type": "code",
   "execution_count": 30,
   "metadata": {},
   "outputs": [],
   "source": [
    "\n",
    "import psycopg2\n",
    "\n",
    "\n",
    "pg_host = \"172.20.65.42\"\n",
    "pg_username = \"postgres\"\n",
    "pg_password = \"postgres\"\n",
    "def pg_exec_query(database: str, query: str, is_select: bool, params = None, autocommit = True, ignore_errors = False):\n",
    "    conn = psycopg2.connect(host=pg_host, database=database, user=pg_username, password=pg_password)\n",
    "    conn.autocommit = autocommit\n",
    "    cur = conn.cursor()\n",
    "    try:\n",
    "        cur.execute(query, params)\n",
    "        if not autocommit and not is_select:\n",
    "            conn.commit()\n",
    "            return None\n",
    "        return [row[0] for row in cur.fetchall()]\n",
    "    except (Exception, psycopg2.Error) as error:\n",
    "        if not autocommit:\n",
    "            conn.rollback()\n",
    "        if not ignore_errors:\n",
    "            raise error\n",
    "        print(error)\n",
    "    finally:\n",
    "        cur.close()\n",
    "        conn.close()"
   ]
  },
  {
   "cell_type": "code",
   "execution_count": 31,
   "metadata": {},
   "outputs": [],
   "source": [
    "a = pg_exec_query('akrana', 'select id from sales.customers', is_select=True)"
   ]
  }
 ],
 "metadata": {
  "kernelspec": {
   "display_name": "Python 3",
   "language": "python",
   "name": "python3"
  },
  "language_info": {
   "codemirror_mode": {
    "name": "ipython",
    "version": 3
   },
   "file_extension": ".py",
   "mimetype": "text/x-python",
   "name": "python",
   "nbconvert_exporter": "python",
   "pygments_lexer": "ipython3",
   "version": "3.12.1"
  }
 },
 "nbformat": 4,
 "nbformat_minor": 2
}
