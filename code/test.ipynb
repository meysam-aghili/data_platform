{
 "cells": [
  {
   "cell_type": "code",
   "execution_count": 4,
   "metadata": {},
   "outputs": [],
   "source": [
    "from faker import Faker\n",
    "import random\n",
    "import time\n",
    "import threading\n",
    "import psycopg2\n",
    "import datetime\n",
    "\n",
    "\n",
    "conn = psycopg2.connect(host=\"172.20.65.42\", database=\"logs\", user=\"postgres\", password=\"postgres\")\n",
    "cur = conn.cursor()\n",
    "try:\n",
    "    cur.execute(f\"INSERT INTO log_data (device_id, log_level, timestamp, message) VALUES (%s, %s, %s, %s)\", (1, \"a\", datetime.datetime.now(), \"s\"))\n",
    "    conn.commit()\n",
    "except (Exception, psycopg2.Error) as error:\n",
    "    print(\"Error while inserting data to PostgreSQL\", error)\n",
    "    conn.rollback()\n",
    "finally:\n",
    "    cur.close()\n",
    "    conn.close()"
   ]
  },
  {
   "cell_type": "code",
   "execution_count": 3,
   "metadata": {},
   "outputs": [
    {
     "name": "stdout",
     "output_type": "stream",
     "text": [
      "Database dropped successfully.\n"
     ]
    }
   ],
   "source": [
    "import psycopg2\n",
    "conn = psycopg2.connect(database=\"postgres\", user=\"postgres\", password=\"postgres\", host=\"172.20.65.42\", port=\"5432\")\n",
    "conn.autocommit = True\n",
    "cur = conn.cursor()\n",
    "try:\n",
    "    cur.execute(\"DROP DATABASE IF EXISTS test;\")\n",
    "    print(\"Database dropped successfully.\")\n",
    "except (Exception, psycopg2.Error) as error:\n",
    "    print(\"Error while inserting data to PostgreSQL\", error)\n",
    "cur.close()\n",
    "conn.close()"
   ]
  },
  {
   "cell_type": "code",
   "execution_count": 2,
   "metadata": {},
   "outputs": [
    {
     "name": "stdout",
     "output_type": "stream",
     "text": [
      "Database dropped successfully.\n"
     ]
    }
   ],
   "source": [
    "import psycopg2\n",
    "conn = psycopg2.connect(database=\"postgres\", user=\"postgres\", password=\"postgres\", host=\"172.20.65.42\", port=\"5432\")\n",
    "conn.autocommit = True\n",
    "cur = conn.cursor()\n",
    "try:\n",
    "    cur.execute(\"CREATE DATABASE test;\")\n",
    "    print(\"Database dropped successfully.\")\n",
    "except (Exception, psycopg2.Error) as error:\n",
    "    print(\"Error while inserting data to PostgreSQL\", error)\n",
    "cur.close()\n",
    "conn.close()"
   ]
  }
 ],
 "metadata": {
  "kernelspec": {
   "display_name": "Python 3",
   "language": "python",
   "name": "python3"
  },
  "language_info": {
   "codemirror_mode": {
    "name": "ipython",
    "version": 3
   },
   "file_extension": ".py",
   "mimetype": "text/x-python",
   "name": "python",
   "nbconvert_exporter": "python",
   "pygments_lexer": "ipython3",
   "version": "3.12.1"
  }
 },
 "nbformat": 4,
 "nbformat_minor": 2
}
